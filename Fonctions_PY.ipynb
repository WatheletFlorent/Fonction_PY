{
 "cells": [
  {
   "cell_type": "code",
   "execution_count": 1,
   "metadata": {},
   "outputs": [
    {
     "data": {
      "text/plain": [
       "105"
      ]
     },
     "execution_count": 1,
     "metadata": {},
     "output_type": "execute_result"
    }
   ],
   "source": [
    "def polynome (x):\n",
    "    x2 = x*x\n",
    "    return x2 + x -5\n",
    "\n",
    "polynome(10)"
   ]
  },
  {
   "cell_type": "code",
   "execution_count": 10,
   "metadata": {},
   "outputs": [
    {
     "name": "stdout",
     "output_type": "stream",
     "text": [
      "109.28264069307991\n"
     ]
    }
   ],
   "source": [
    "from math import log\n",
    "def log_base (x, base = 10):\n",
    "    return log(x) / log(base)\n",
    "\n",
    "y = log_base (1000)\n",
    "z = log_base (1000,2)\n",
    "y,z\n",
    "\n",
    "def calcul(x):\n",
    "    y = x**2\n",
    "    z = x + y \n",
    "    return z\n",
    "\n",
    "print(calcul(z))"
   ]
  },
  {
   "cell_type": "code",
   "execution_count": 5,
   "metadata": {},
   "outputs": [
    {
     "name": "stdout",
     "output_type": "stream",
     "text": [
      "intérieur de test 3\n",
      "après test 3\n"
     ]
    }
   ],
   "source": [
    "a = 2 \n",
    "\n",
    "def test():\n",
    "    global a\n",
    "    a = 3\n",
    "    return print('intérieur de test', a)\n",
    "    \n",
    "test()\n",
    "print('après test',a)"
   ]
  },
  {
   "cell_type": "code",
   "execution_count": 11,
   "metadata": {},
   "outputs": [
    {
     "name": "stdout",
     "output_type": "stream",
     "text": [
      "je m'appelle pour x= 10\n",
      "je m'appelle pour x= 5.0\n",
      "je m'appelle pour x= 2.5\n",
      "je ne m'appelle pas pour x = 1.25\n"
     ]
    },
    {
     "data": {
      "text/plain": [
       "3"
      ]
     },
     "execution_count": 11,
     "metadata": {},
     "output_type": "execute_result"
    }
   ],
   "source": [
    "def rescursive(x):\n",
    "    if x / 2 < 1:\n",
    "        print(\"je ne m'appelle pas pour x =\",x)\n",
    "        return 1\n",
    "    else:\n",
    "        print(\"je m'appelle pour x=\",x)\n",
    "        return recursive (x/2) \n",
    "    \n",
    "rescursive(10)"
   ]
  },
  {
   "cell_type": "code",
   "execution_count": 18,
   "metadata": {},
   "outputs": [
    {
     "name": "stdout",
     "output_type": "stream",
     "text": [
      "D u   p\n",
      "['Du p', 'sé faisons table r', 'e']\n",
      "['Du', 'passé', 'faisons', 'table', 'rase']\n"
     ]
    }
   ],
   "source": [
    "s1 = \"Du passé faisons table rase\"\n",
    "l1 = [i for i in s1]\n",
    "l2 = s1.split(\"as\")\n",
    "l3 = s1.split()\n",
    "\n",
    "print(l1[0], l1[1], l1[2], l1[3])\n",
    "print(l2)\n",
    "print(l3)"
   ]
  },
  {
   "cell_type": "code",
   "execution_count": 19,
   "metadata": {},
   "outputs": [
    {
     "name": "stdout",
     "output_type": "stream",
     "text": [
      "Hello W\n",
      "Du passé faisons table rase\n"
     ]
    }
   ],
   "source": [
    "l1 = [\"H\", \"e\", \"l\", \"l\", \"o\", \" \", \"W\"]\n",
    "l2 = ['Du', 'passé', 'faisons', 'table', 'rase']\n",
    "s1 =\"\".join(l1)\n",
    "s2=\" \".join(l2)\n",
    "\n",
    "print(s1)\n",
    "print(s2)"
   ]
  },
  {
   "cell_type": "code",
   "execution_count": 23,
   "metadata": {},
   "outputs": [
    {
     "name": "stdout",
     "output_type": "stream",
     "text": [
      "faisons TABLE\n"
     ]
    }
   ],
   "source": [
    "s1 = \"Faisons table rase\"\n",
    "s2 = s1[:8].lower() + s1[8:13].upper()\n",
    "print(s2)"
   ]
  },
  {
   "cell_type": "code",
   "execution_count": 24,
   "metadata": {},
   "outputs": [
    {
     "name": "stdout",
     "output_type": "stream",
     "text": [
      "3\n",
      "\n",
      "35\n",
      "\n",
      "-1\n"
     ]
    }
   ],
   "source": [
    "s1 = \"Ce texte contient deyx fois le mot texte.\"\n",
    "print(s1.find(\"texte\",0))\n",
    "print()\n",
    "print(s1.find(\"texte\",4))\n",
    "print()\n",
    "print(s1.find(\"texte\",36))"
   ]
  },
  {
   "cell_type": "code",
   "execution_count": 29,
   "metadata": {},
   "outputs": [
    {
     "name": "stdout",
     "output_type": "stream",
     "text": [
      "3\n",
      "35\n",
      "-1\n"
     ]
    }
   ],
   "source": [
    "s1 = \"Ce texte contient deyx fois le mot texte.\"\n",
    "max = 0\n",
    "while max > -1:\n",
    "    max = s1.find(\"texte\",max+1)\n",
    "    print(max)"
   ]
  },
  {
   "cell_type": "code",
   "execution_count": 36,
   "metadata": {},
   "outputs": [
    {
     "name": "stdout",
     "output_type": "stream",
     "text": [
      "Le prix est de $deux \n",
      "Le prix est de $2.15 \n"
     ]
    }
   ],
   "source": [
    "s1 = \"Le prix est de deux euros.\"\n",
    "if 'euros' in s1:\n",
    "    i = s1.index(\"euros\")\n",
    "    s2 = s1[:i-5] + '$' + s1[i-5:i]\n",
    "    print(s2)\n",
    "    j = s2.find('deux')\n",
    "    s3 = s2[:j] + '2.15' + s2[j+4:]\n",
    "print(s3)"
   ]
  },
  {
   "cell_type": "code",
   "execution_count": 35,
   "metadata": {},
   "outputs": [
    {
     "name": "stdout",
     "output_type": "stream",
     "text": [
      "Le prix est de $2.15.\n"
     ]
    }
   ],
   "source": [
    "s1 = \"Le prix est de deux euros.\"\n",
    "s2 = s1.replace('deux euros', '$2.15')\n",
    "print(s2)"
   ]
  },
  {
   "cell_type": "code",
   "execution_count": 43,
   "metadata": {},
   "outputs": [
    {
     "name": "stdout",
     "output_type": "stream",
     "text": [
      "nombre\n",
      "mot\n",
      "?\n"
     ]
    }
   ],
   "source": [
    "s = \"300 seulement ?\"\n",
    "l = s.split()\n",
    "for mot in l:\n",
    "    if mot.isalpha():\n",
    "        print('mot')\n",
    "    if mot.isnumeric():\n",
    "        print('nombre')\n",
    "    if not mot.isalnum():\n",
    "        print('?')"
   ]
  },
  {
   "cell_type": "code",
   "execution_count": 44,
   "metadata": {},
   "outputs": [
    {
     "name": "stdout",
     "output_type": "stream",
     "text": [
      "['Le', 'Argentine']\n",
      "['PIB', 'Argentine', 'baisse', 'depuis']\n"
     ]
    }
   ],
   "source": [
    "from re import findall\n",
    "s = \"Le PIB de l'Argentine baisse depuis 3 ans\"\n",
    "l1 = findall(\"[A-Z][a-z]+\",s)\n",
    "l2 = findall(\"[a-zA-z]*[iI][a-zA-Z]*\",s)\n",
    "\n",
    "print(l1)\n",
    "print(l2)"
   ]
  },
  {
   "cell_type": "code",
   "execution_count": 53,
   "metadata": {},
   "outputs": [
    {
     "name": "stdout",
     "output_type": "stream",
     "text": [
      "['0678828383', '09.34.67.12.11', '03 11 13 10 18', '03.11 23 2038']\n"
     ]
    }
   ],
   "source": [
    "from re import findall\n",
    "motif = '0[1-9](?:[\\s\\.]?[0-9]{2}){4}'\n",
    "n1 = \"0678828383\"\n",
    "n2 = \"09.34.67.12.11\"\n",
    "n3 = \"03 11 13 10 18,\"\n",
    "n4 = \"03 11 23 20,\"\n",
    "n5 = \"03.11 23 2038\"\n",
    "n6 = \"03-23-20-20-38\"\n",
    "s = n1+n2+n3+n4+n5+n6\n",
    "print(findall(motif, s))"
   ]
  },
  {
   "cell_type": "code",
   "execution_count": 69,
   "metadata": {},
   "outputs": [
    {
     "name": "stdout",
     "output_type": "stream",
     "text": [
      "Un texte HTML<strong/>avec des balises et même <script type ='texte/javascript'>var i = 5 ;</script> du javascript dedans.\n"
     ]
    }
   ],
   "source": [
    "from re import sub\n",
    "s = \"Un texte <strong>HTML<strong/>avec des balises\"\n",
    "s += \" et même <script type ='texte/javascript'>\"\n",
    "s += 'var i = 5 ;</script> du javascript dedans.'\n",
    "s1 = sub('<[a-z]+>', '',s)\n",
    "print(s1)"
   ]
  },
  {
   "cell_type": "code",
   "execution_count": 68,
   "metadata": {},
   "outputs": [
    {
     "name": "stdout",
     "output_type": "stream",
     "text": [
      "Un texte  du javascript dedans.\n",
      "Un texte HTMLavec des balises et même <script type ='texte/javascript'>var i = 5 ; du javascript dedans.\n",
      "Un texte HTMLavec des balises et même var i = 5 ; du javascript dedans.\n"
     ]
    }
   ],
   "source": [
    "from re import sub\n",
    "s = \"Un texte <strong>HTML<strong/>avec des balises\"\n",
    "s += \" et même <script type ='texte/javascript'>\"\n",
    "s += 'var i = 5 ;</script> du javascript dedans.'\n",
    "s1 = sub('<.*>', '',s)\n",
    "s2 = sub('<[a-z\\\\/\"=\\s]*>', '',s)\n",
    "s3 = sub('<[^>]*>','',s)\n",
    "print(s1)\n",
    "print(s2)\n",
    "print(s3)"
   ]
  },
  {
   "cell_type": "code",
   "execution_count": 17,
   "metadata": {},
   "outputs": [
    {
     "name": "stdout",
     "output_type": "stream",
     "text": [
      "Salut\n",
      "Amis\n"
     ]
    }
   ],
   "source": [
    "#1.Ecrire une fonction hascap(s) qui renvoie tout les mots de la chaînes commençant par une majuscule.\n",
    "\n",
    "def hascap(s):\n",
    "    s = s.split()\n",
    "    for mot in s:\n",
    "        if ord(mot[:1]) >= 65 and ord(mot[:1]) <= 90:\n",
    "             print(mot)\n",
    "\n",
    "hascap(\"Salut les Amis\")"
   ]
  },
  {
   "cell_type": "code",
   "execution_count": 82,
   "metadata": {},
   "outputs": [
    {
     "name": "stdout",
     "output_type": "stream",
     "text": [
      "A\n"
     ]
    }
   ],
   "source": [
    "print(chr(ord('a')-32))"
   ]
  },
  {
   "cell_type": "code",
   "execution_count": 108,
   "metadata": {},
   "outputs": [
    {
     "name": "stdout",
     "output_type": "stream",
     "text": [
      "['Le', 'prix', 'est', 'de', 'presque', 54, 'euros']\n"
     ]
    }
   ],
   "source": [
    "# 2.Proposer une fonction inflation(s) qui va doubler la valeur de tout les nombres dans la chaine s. \n",
    "# Exemple : « Le prix est de 27 euros »devient « Le prix est de 54 euros ».\n",
    "\n",
    "def inflation(s):\n",
    "    s = s.split()\n",
    "    for i,nombre in enumerate(s):\n",
    "        if nombre.isnumeric():\n",
    "            s[i]= int(nombre)*2\n",
    "     \n",
    "    print(s)\n",
    "inflation(\"Le prix est de presque 27 euros\")   "
   ]
  },
  {
   "cell_type": "code",
   "execution_count": 35,
   "metadata": {
    "scrolled": true
   },
   "outputs": [
    {
     "name": "stdout",
     "output_type": "stream",
     "text": [
      "['Onze ans déjà que cela ', 'passe vite Vous vous ', 'étiez servis simplement ', 'de vos armes la mort ', 'n‘éblouit pas les yeux ', 'des partisans Vous aviez ', 'vos portraits sur les ', 'murs de nos villes ']\n"
     ]
    }
   ],
   "source": [
    "#3.Proposer une fonction lignes qui à partir d’une longue chaîne s (>100caractères) \n",
    "#renvoie une liste de chaîne de caractères contenant chacun 24 caractères maximum et terminant par un espace.\n",
    "\n",
    "s = \"Onze ans déjà que cela passe vite Vous \"\n",
    "s += \"vous étiez servis simplement de vos armes la \"\n",
    "s += \"mort n‘éblouit pas les yeux des partisans Vous \"\n",
    "s += \"aviez vos portraits sur les murs de nos villes \"\n",
    "\n",
    "\n",
    "#def ligne(s):\n",
    "s2 = \"\"\n",
    "s3 = []\n",
    "s = s.split()\n",
    "for i in s:\n",
    "    if len(s2) + len(i) > 24:\n",
    "        s3.append(s2)\n",
    "        s2 = i + \" \"\n",
    "    else:\n",
    "        s2 += i+\" \"\n",
    "s3.append(s2)\n",
    "print(s3)\n",
    "            \n",
    "        \n",
    "\n"
   ]
  },
  {
   "cell_type": "code",
   "execution_count": 69,
   "metadata": {},
   "outputs": [
    {
     "name": "stdout",
     "output_type": "stream",
     "text": [
      "['2', '6.50', '6,50']\n"
     ]
    }
   ],
   "source": [
    "#4.Proposer un programme qui renvoie la liste de tout les nombres\n",
    "#(ycompris décimaux et négatifs) d’une chaîne de caractères.\n",
    "#A tester sur la chaîne : « Les 2 maquereaux valent 6.50 euros ».\n",
    "from re import findall\n",
    "\n",
    "s = \"Les 2 maquereaux valent 6.50 euros 6,50\"\n",
    "\n",
    "motif = \"[\\d,.]*\\d\"\n",
    "motif1 = '[0-9,.]*[0-9]'\n",
    "print(findall(motif1,s))"
   ]
  },
  {
   "cell_type": "code",
   "execution_count": 2,
   "metadata": {},
   "outputs": [
    {
     "name": "stdout",
     "output_type": "stream",
     "text": [
      "Les 2 maquereaux valent 6 euros\n"
     ]
    }
   ],
   "source": [
    "#5.Proposer une fonction arrondi(s) qui dans la chaîne s \n",
    "#troncaturetout les nombres décimaux.On autorise les nombres négatifs\n",
    "from re import sub\n",
    "\n",
    "def tronc(s):\n",
    "    motif = r'(-?)([0-9]+)[,.]?[0-9]*'\n",
    "    return sub(motif, r'\\1\\2',s)\n",
    "s = \"Les 2.7 maquereaux valent 6.50 euros\"\n",
    "\n",
    "print(tronc(s))"
   ]
  },
  {
   "cell_type": "code",
   "execution_count": null,
   "metadata": {},
   "outputs": [],
   "source": []
  }
 ],
 "metadata": {
  "kernelspec": {
   "display_name": "Python 3",
   "language": "python",
   "name": "python3"
  },
  "language_info": {
   "codemirror_mode": {
    "name": "ipython",
    "version": 3
   },
   "file_extension": ".py",
   "mimetype": "text/x-python",
   "name": "python",
   "nbconvert_exporter": "python",
   "pygments_lexer": "ipython3",
   "version": "3.7.6"
  }
 },
 "nbformat": 4,
 "nbformat_minor": 4
}
